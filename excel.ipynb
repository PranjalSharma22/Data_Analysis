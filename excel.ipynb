{
 "cells": [
  {
   "cell_type": "code",
   "execution_count": 37,
   "metadata": {},
   "outputs": [],
   "source": [
    "import pandas"
   ]
  },
  {
   "cell_type": "code",
   "execution_count": 38,
   "metadata": {},
   "outputs": [],
   "source": [
    "ex=pandas.read_excel('excel_prac1.xlsx')\n"
   ]
  },
  {
   "cell_type": "code",
   "execution_count": 39,
   "metadata": {},
   "outputs": [
    {
     "data": {
      "text/html": [
       "<div>\n",
       "<table border=\"1\" class=\"dataframe\">\n",
       "  <thead>\n",
       "    <tr style=\"text-align: right;\">\n",
       "      <th></th>\n",
       "      <th>Name</th>\n",
       "      <th>Roll NO</th>\n",
       "      <th>SChool</th>\n",
       "    </tr>\n",
       "  </thead>\n",
       "  <tbody>\n",
       "    <tr>\n",
       "      <th>0</th>\n",
       "      <td>pranjal shrama</td>\n",
       "      <td>40</td>\n",
       "      <td>st.anselms</td>\n",
       "    </tr>\n",
       "    <tr>\n",
       "      <th>1</th>\n",
       "      <td>pranshu  sharma</td>\n",
       "      <td>41</td>\n",
       "      <td>st.anselms</td>\n",
       "    </tr>\n",
       "    <tr>\n",
       "      <th>2</th>\n",
       "      <td>shiv soni</td>\n",
       "      <td>48</td>\n",
       "      <td>Kv1</td>\n",
       "    </tr>\n",
       "  </tbody>\n",
       "</table>\n",
       "</div>"
      ],
      "text/plain": [
       "              Name  Roll NO      SChool\n",
       "0   pranjal shrama       40  st.anselms\n",
       "1  pranshu  sharma       41  st.anselms\n",
       "2        shiv soni       48         Kv1"
      ]
     },
     "execution_count": 39,
     "metadata": {},
     "output_type": "execute_result"
    }
   ],
   "source": [
    "ex\n"
   ]
  },
  {
   "cell_type": "code",
   "execution_count": 40,
   "metadata": {},
   "outputs": [],
   "source": [
    "s=ex.head(1)"
   ]
  },
  {
   "cell_type": "code",
   "execution_count": 41,
   "metadata": {},
   "outputs": [
    {
     "data": {
      "text/plain": [
       "0     pranjal shrama\n",
       "1    pranshu  sharma\n",
       "2          shiv soni\n",
       "Name: Name, dtype: object"
      ]
     },
     "execution_count": 41,
     "metadata": {},
     "output_type": "execute_result"
    }
   ],
   "source": [
    "ex['Name']"
   ]
  },
  {
   "cell_type": "code",
   "execution_count": 42,
   "metadata": {},
   "outputs": [],
   "source": [
    "ex.to_excel('write_excel.xlsx',index=False)"
   ]
  },
  {
   "cell_type": "code",
   "execution_count": 43,
   "metadata": {},
   "outputs": [],
   "source": [
    "s.to_excel('write_excel.xlsx',index=False)"
   ]
  },
  {
   "cell_type": "markdown",
   "metadata": {},
   "source": [
    "# To add row"
   ]
  },
  {
   "cell_type": "code",
   "execution_count": 48,
   "metadata": {},
   "outputs": [],
   "source": [
    "df1=pandas.DataFrame([['Rohit sharma','44','Gavar public school']],columns=['Name','Roll NO','SChool'])\n",
    "ex=ex.append(df1)\n",
    "ex.index=range(1,len(ex)+1)\n",
    "\n",
    "\n"
   ]
  },
  {
   "cell_type": "code",
   "execution_count": 49,
   "metadata": {},
   "outputs": [],
   "source": [
    "ex=ex.sort_index()"
   ]
  },
  {
   "cell_type": "code",
   "execution_count": 50,
   "metadata": {},
   "outputs": [
    {
     "data": {
      "text/html": [
       "<div>\n",
       "<table border=\"1\" class=\"dataframe\">\n",
       "  <thead>\n",
       "    <tr style=\"text-align: right;\">\n",
       "      <th></th>\n",
       "      <th>Name</th>\n",
       "      <th>Roll NO</th>\n",
       "      <th>SChool</th>\n",
       "    </tr>\n",
       "  </thead>\n",
       "  <tbody>\n",
       "    <tr>\n",
       "      <th>1</th>\n",
       "      <td>pranjal shrama</td>\n",
       "      <td>40</td>\n",
       "      <td>st.anselms</td>\n",
       "    </tr>\n",
       "    <tr>\n",
       "      <th>2</th>\n",
       "      <td>Rohit sharma</td>\n",
       "      <td>44</td>\n",
       "      <td>Gavar public school</td>\n",
       "    </tr>\n",
       "    <tr>\n",
       "      <th>3</th>\n",
       "      <td>pranshu  sharma</td>\n",
       "      <td>41</td>\n",
       "      <td>st.anselms</td>\n",
       "    </tr>\n",
       "    <tr>\n",
       "      <th>4</th>\n",
       "      <td>shiv soni</td>\n",
       "      <td>48</td>\n",
       "      <td>Kv1</td>\n",
       "    </tr>\n",
       "    <tr>\n",
       "      <th>5</th>\n",
       "      <td>Rohit sharma</td>\n",
       "      <td>44</td>\n",
       "      <td>Gavar public school</td>\n",
       "    </tr>\n",
       "    <tr>\n",
       "      <th>6</th>\n",
       "      <td>Rohit sharma</td>\n",
       "      <td>44</td>\n",
       "      <td>Gavar public school</td>\n",
       "    </tr>\n",
       "  </tbody>\n",
       "</table>\n",
       "</div>"
      ],
      "text/plain": [
       "              Name Roll NO               SChool\n",
       "1   pranjal shrama      40           st.anselms\n",
       "2     Rohit sharma      44  Gavar public school\n",
       "3  pranshu  sharma      41           st.anselms\n",
       "4        shiv soni      48                  Kv1\n",
       "5     Rohit sharma      44  Gavar public school\n",
       "6     Rohit sharma      44  Gavar public school"
      ]
     },
     "execution_count": 50,
     "metadata": {},
     "output_type": "execute_result"
    }
   ],
   "source": [
    "ex"
   ]
  },
  {
   "cell_type": "code",
   "execution_count": 51,
   "metadata": {},
   "outputs": [
    {
     "data": {
      "text/html": [
       "<div>\n",
       "<table border=\"1\" class=\"dataframe\">\n",
       "  <thead>\n",
       "    <tr style=\"text-align: right;\">\n",
       "      <th></th>\n",
       "      <th>Name</th>\n",
       "      <th>Roll NO</th>\n",
       "      <th>SChool</th>\n",
       "    </tr>\n",
       "  </thead>\n",
       "  <tbody>\n",
       "    <tr>\n",
       "      <th>1</th>\n",
       "      <td>pranjal shrama</td>\n",
       "      <td>40</td>\n",
       "      <td>st.anselms</td>\n",
       "    </tr>\n",
       "    <tr>\n",
       "      <th>2</th>\n",
       "      <td>Rohit sharma</td>\n",
       "      <td>44</td>\n",
       "      <td>Gavar public school</td>\n",
       "    </tr>\n",
       "    <tr>\n",
       "      <th>3</th>\n",
       "      <td>pranshu  sharma</td>\n",
       "      <td>41</td>\n",
       "      <td>st.anselms</td>\n",
       "    </tr>\n",
       "    <tr>\n",
       "      <th>4</th>\n",
       "      <td>shiv soni</td>\n",
       "      <td>48</td>\n",
       "      <td>Kv1</td>\n",
       "    </tr>\n",
       "    <tr>\n",
       "      <th>5</th>\n",
       "      <td>Rohit sharma</td>\n",
       "      <td>44</td>\n",
       "      <td>Gavar public school</td>\n",
       "    </tr>\n",
       "  </tbody>\n",
       "</table>\n",
       "</div>"
      ],
      "text/plain": [
       "              Name Roll NO               SChool\n",
       "1   pranjal shrama      40           st.anselms\n",
       "2     Rohit sharma      44  Gavar public school\n",
       "3  pranshu  sharma      41           st.anselms\n",
       "4        shiv soni      48                  Kv1\n",
       "5     Rohit sharma      44  Gavar public school"
      ]
     },
     "execution_count": 51,
     "metadata": {},
     "output_type": "execute_result"
    }
   ],
   "source": [
    "ex.drop(6)"
   ]
  },
  {
   "cell_type": "code",
   "execution_count": 52,
   "metadata": {},
   "outputs": [
    {
     "data": {
      "text/html": [
       "<div>\n",
       "<table border=\"1\" class=\"dataframe\">\n",
       "  <thead>\n",
       "    <tr style=\"text-align: right;\">\n",
       "      <th></th>\n",
       "      <th>Name</th>\n",
       "      <th>Roll NO</th>\n",
       "      <th>SChool</th>\n",
       "    </tr>\n",
       "  </thead>\n",
       "  <tbody>\n",
       "    <tr>\n",
       "      <th>1</th>\n",
       "      <td>pranjal shrama</td>\n",
       "      <td>40</td>\n",
       "      <td>st.anselms</td>\n",
       "    </tr>\n",
       "    <tr>\n",
       "      <th>2</th>\n",
       "      <td>Rohit sharma</td>\n",
       "      <td>44</td>\n",
       "      <td>Gavar public school</td>\n",
       "    </tr>\n",
       "    <tr>\n",
       "      <th>3</th>\n",
       "      <td>pranshu  sharma</td>\n",
       "      <td>41</td>\n",
       "      <td>st.anselms</td>\n",
       "    </tr>\n",
       "    <tr>\n",
       "      <th>4</th>\n",
       "      <td>shiv soni</td>\n",
       "      <td>48</td>\n",
       "      <td>Kv1</td>\n",
       "    </tr>\n",
       "    <tr>\n",
       "      <th>5</th>\n",
       "      <td>Rohit sharma</td>\n",
       "      <td>44</td>\n",
       "      <td>Gavar public school</td>\n",
       "    </tr>\n",
       "    <tr>\n",
       "      <th>6</th>\n",
       "      <td>Rohit sharma</td>\n",
       "      <td>44</td>\n",
       "      <td>Gavar public school</td>\n",
       "    </tr>\n",
       "  </tbody>\n",
       "</table>\n",
       "</div>"
      ],
      "text/plain": [
       "              Name Roll NO               SChool\n",
       "1   pranjal shrama      40           st.anselms\n",
       "2     Rohit sharma      44  Gavar public school\n",
       "3  pranshu  sharma      41           st.anselms\n",
       "4        shiv soni      48                  Kv1\n",
       "5     Rohit sharma      44  Gavar public school\n",
       "6     Rohit sharma      44  Gavar public school"
      ]
     },
     "execution_count": 52,
     "metadata": {},
     "output_type": "execute_result"
    }
   ],
   "source": [
    "ex\n"
   ]
  },
  {
   "cell_type": "code",
   "execution_count": null,
   "metadata": {},
   "outputs": [],
   "source": []
  }
 ],
 "metadata": {
  "kernelspec": {
   "display_name": "Python 3",
   "language": "python",
   "name": "python3"
  },
  "language_info": {
   "codemirror_mode": {
    "name": "ipython",
    "version": 3
   },
   "file_extension": ".py",
   "mimetype": "text/x-python",
   "name": "python",
   "nbconvert_exporter": "python",
   "pygments_lexer": "ipython3",
   "version": "3.5.2"
  }
 },
 "nbformat": 4,
 "nbformat_minor": 2
}
